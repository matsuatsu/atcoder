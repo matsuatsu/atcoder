{
 "cells": [
  {
   "cell_type": "markdown",
   "metadata": {},
   "source": [
    "# A - Harmony\n",
    "相違なる整数 \n",
    "A\n",
    ", \n",
    "B\n",
    " があります。\n",
    "\n",
    "|\n",
    "A\n",
    "−\n",
    "K\n",
    "|\n",
    "=\n",
    "|\n",
    "B\n",
    "−\n",
    "K\n",
    "|\n",
    " となるような整数 \n",
    "K\n",
    " を出力してください。\n",
    "\n",
    "そのような整数が存在しなければ、代わりに IMPOSSIBLE を出力してください。"
   ]
  },
  {
   "cell_type": "code",
   "execution_count": 11,
   "metadata": {
    "collapsed": false
   },
   "outputs": [
    {
     "name": "stdout",
     "output_type": "stream",
     "text": [
      "998244353 99824435\n"
     ]
    }
   ],
   "source": [
    "a,b=map(int,input().split())"
   ]
  },
  {
   "cell_type": "code",
   "execution_count": 12,
   "metadata": {
    "collapsed": false
   },
   "outputs": [
    {
     "name": "stdout",
     "output_type": "stream",
     "text": [
      "549034394\n"
     ]
    }
   ],
   "source": [
    "c=a+b\n",
    "if c%2!=0:\n",
    "    print(\"IMPOSSIBLE\")\n",
    "else:\n",
    "    k=c//2\n",
    "    print(k)"
   ]
  },
  {
   "cell_type": "markdown",
   "metadata": {},
   "source": [
    "# B - 0 or 1 Swap"
   ]
  },
  {
   "cell_type": "code",
   "execution_count": 31,
   "metadata": {
    "collapsed": false
   },
   "outputs": [
    {
     "name": "stdout",
     "output_type": "stream",
     "text": [
      "5\n",
      "2 4 3 5 1\n"
     ]
    }
   ],
   "source": [
    "N=int(input())\n",
    "p_list=[int(i) for i in input().split()]"
   ]
  },
  {
   "cell_type": "code",
   "execution_count": 32,
   "metadata": {
    "collapsed": false
   },
   "outputs": [
    {
     "name": "stdout",
     "output_type": "stream",
     "text": [
      "NO\n"
     ]
    }
   ],
   "source": [
    "p_sort=sorted(p_list)\n",
    "swap_index=[]\n",
    "for i,x,y in zip(range(len(p_list)),p_list,p_sort):\n",
    "    if x!=y:\n",
    "        swap_index.append(i)\n",
    "if len(swap_index)==0:\n",
    "    print(\"YES\")\n",
    "elif len(swap_index)!=2:\n",
    "    print(\"NO\")\n",
    "else:\n",
    "    i,j=swap_index\n",
    "    tmp=p_list[i]\n",
    "    p_list[i]=p_list[j]\n",
    "    p_list[j]=tmp\n",
    "    if p_list==p_sort:\n",
    "        print(\"YES\")\n",
    "    else:\n",
    "        print(\"NO\")"
   ]
  },
  {
   "cell_type": "markdown",
   "metadata": {},
   "source": [
    "# C - City Savers\n",
    "N\n",
    "+\n",
    "1\n",
    " 個の街があり、\n",
    "i\n",
    " 番目の街は \n",
    "A\n",
    "i\n",
    " 体のモンスターに襲われています。\n",
    "\n",
    "N\n",
    " 人の勇者が居て、\n",
    "i\n",
    " 番目の勇者は \n",
    "i\n",
    " 番目または \n",
    "i\n",
    "+\n",
    "1\n",
    " 番目の街を襲っているモンスターを合計で \n",
    "B\n",
    "i\n",
    " 体まで倒すことができます。\n",
    "\n",
    "N\n",
    " 人の勇者がうまく協力することで、合計して最大で何体のモンスターを倒せるでしょうか。"
   ]
  },
  {
   "cell_type": "code",
   "execution_count": 19,
   "metadata": {
    "collapsed": false
   },
   "outputs": [
    {
     "name": "stdout",
     "output_type": "stream",
     "text": [
      "3\n",
      "5 6 3 8\n",
      "5 100 8\n"
     ]
    }
   ],
   "source": [
    "N=int(input())\n",
    "a_list=[int(i) for i in input().split()]\n",
    "b_list=[int(i) for i in input().split()]"
   ]
  },
  {
   "cell_type": "code",
   "execution_count": 33,
   "metadata": {
    "collapsed": true
   },
   "outputs": [],
   "source": [
    "N=2\n",
    "a_list=[100,1,1]\n",
    "b_list=[1,100]"
   ]
  },
  {
   "cell_type": "code",
   "execution_count": 34,
   "metadata": {
    "collapsed": false,
    "scrolled": true
   },
   "outputs": [
    {
     "name": "stdout",
     "output_type": "stream",
     "text": [
      "3\n"
     ]
    }
   ],
   "source": [
    "count=0\n",
    "for i in range(N):\n",
    "    if a_list[i]<b_list[i]:\n",
    "        c=b_list[i]-a_list[i]\n",
    "        count+=a_list[i]\n",
    "        a_list[i]=0\n",
    "        if a_list[i+1]<c:\n",
    "            count+=a_list[i+1]\n",
    "            a_list[i+1]=0\n",
    "        else:\n",
    "            a_list[i+1]-=c\n",
    "            count+=c\n",
    "    else:\n",
    "        a_list[i]-=b_list[i]\n",
    "        count+=b_list[i]\n",
    "print(count)"
   ]
  },
  {
   "cell_type": "markdown",
   "metadata": {},
   "source": [
    "# D - Digits Parade\n",
    "文字列 \n",
    "S\n",
    " が与えられます。\n",
    "S\n",
    " の各文字は、数字 (0 ～ 9) か ? です。\n",
    "\n",
    "? を数字に置き換えてできる整数のうち、\n",
    "13\n",
    " で割って \n",
    "5\n",
    " あまる数は何通りあるでしょうか？ただし、頭文字が \n",
    "0\n",
    " である場合も整数とみなすものとします。\n",
    "\n",
    "答えは非常に大きくなる可能性があるため、\n",
    "10\n",
    "9\n",
    "+\n",
    "7\n",
    " で割ったあまりを答えてください。"
   ]
  },
  {
   "cell_type": "code",
   "execution_count": 2,
   "metadata": {
    "collapsed": false
   },
   "outputs": [
    {
     "name": "stdout",
     "output_type": "stream",
     "text": [
      "??2??5\n"
     ]
    }
   ],
   "source": [
    "S=input()"
   ]
  },
  {
   "cell_type": "code",
   "execution_count": 3,
   "metadata": {
    "collapsed": false
   },
   "outputs": [],
   "source": [
    "max_num=int(len(S)*\"9\")"
   ]
  },
  {
   "cell_type": "code",
   "execution_count": 6,
   "metadata": {
    "collapsed": false
   },
   "outputs": [
    {
     "data": {
      "text/plain": [
       "76922"
      ]
     },
     "execution_count": 6,
     "metadata": {},
     "output_type": "execute_result"
    }
   ],
   "source": [
    "max_div=max_num//13\n",
    "if max_div*13+5>max_num:\n",
    "    max_div=max_div-1\n",
    "max_div"
   ]
  },
  {
   "cell_type": "code",
   "execution_count": null,
   "metadata": {
    "collapsed": true
   },
   "outputs": [],
   "source": []
  },
  {
   "cell_type": "code",
   "execution_count": null,
   "metadata": {
    "collapsed": true
   },
   "outputs": [],
   "source": []
  }
 ],
 "metadata": {
  "kernelspec": {
   "display_name": "Python 3",
   "language": "python",
   "name": "python3"
  }
 },
 "nbformat": 4,
 "nbformat_minor": 2
}
