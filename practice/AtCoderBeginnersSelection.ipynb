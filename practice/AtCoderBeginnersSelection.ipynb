{
 "cells": [
  {
   "cell_type": "markdown",
   "metadata": {},
   "source": [
    "# ABC081B - Shift only"
   ]
  },
  {
   "cell_type": "code",
   "execution_count": 3,
   "metadata": {
    "collapsed": false
   },
   "outputs": [],
   "source": [
    "from ipywidgets import Textarea\n",
    "from IPython.display import display\n",
    "\n",
    "def get_input(change):\n",
    "    global Input\n",
    "    Input=change[\"new\"]\n",
    "\n",
    "textarea = Textarea()\n",
    "textarea.observe(get_input, names='value')\n",
    "display(textarea)"
   ]
  },
  {
   "cell_type": "code",
   "execution_count": 21,
   "metadata": {
    "collapsed": false
   },
   "outputs": [],
   "source": [
    "n,ls=Input.split(\"\\n\")"
   ]
  },
  {
   "cell_type": "code",
   "execution_count": 26,
   "metadata": {
    "collapsed": false
   },
   "outputs": [],
   "source": [
    "l=list(map(int,ls.split()))"
   ]
  },
  {
   "cell_type": "code",
   "execution_count": 28,
   "metadata": {
    "collapsed": false
   },
   "outputs": [
    {
     "name": "stdout",
     "output_type": "stream",
     "text": [
      "6\n",
      "382253568 723152896 37802240 379425024 404894720 471526144\n",
      "8\n"
     ]
    }
   ],
   "source": [
    "n=input()\n",
    "ls=input()\n",
    "l=list(map(int,ls.split()))\n",
    "c=0\n",
    "while True:\n",
    "    judge=sum([x%2 for x in l])\n",
    "    if judge>0:\n",
    "        break\n",
    "    else:\n",
    "        c+=1\n",
    "        l=[x/2 for x in l]\n",
    "print(c)"
   ]
  },
  {
   "cell_type": "markdown",
   "metadata": {},
   "source": [
    "# ABC087B - Coins"
   ]
  },
  {
   "cell_type": "code",
   "execution_count": 1,
   "metadata": {
    "collapsed": false
   },
   "outputs": [
    {
     "name": "stdout",
     "output_type": "stream",
     "text": [
      "2\n",
      "2\n",
      "2\n",
      "100\n",
      "2\n"
     ]
    }
   ],
   "source": [
    "all=input(),input(),input(),input()\n",
    "a,b,c,z=[int(x) for x in all]\n",
    "\n",
    "count=0\n",
    "for i in range(a+1):\n",
    "    n=500*i\n",
    "    if n==z:\n",
    "        count +=1\n",
    "        continue\n",
    "    elif n>z:\n",
    "        continue    \n",
    "    for j in range(b+1):\n",
    "        n=500*i+100*j\n",
    "        if n==z:\n",
    "            count +=1\n",
    "            continue\n",
    "        elif n>z:\n",
    "            continue    \n",
    "        for k in range(c+1):\n",
    "            n=500*i+100*j+50*k\n",
    "            if n==z:\n",
    "                count +=1\n",
    "                continue\n",
    "            elif n>z:\n",
    "                continue    \n",
    "            \n",
    "print(count)"
   ]
  },
  {
   "cell_type": "markdown",
   "metadata": {
    "collapsed": false
   },
   "source": [
    "# ABC083B - Some Sums"
   ]
  },
  {
   "cell_type": "code",
   "execution_count": 32,
   "metadata": {
    "collapsed": false
   },
   "outputs": [
    {
     "name": "stdout",
     "output_type": "stream",
     "text": [
      "4554\n"
     ]
    }
   ],
   "source": [
    "all=input()\n",
    "n,a,b=map(int,all.split())\n",
    "n_list=[x+1 for x in range(n)]\n",
    "sum_list=[sum([int(s) for s in list(str(i+1))]) for i in range(n)]\n",
    "use_list=[True if x<=b and x>=a else False for x in sum_list]\n",
    "c=0\n",
    "for i in range(len(sum_list)):\n",
    "    if use_list[i]==True:\n",
    "        c+=n_list[i]\n",
    "print(c)"
   ]
  },
  {
   "cell_type": "markdown",
   "metadata": {},
   "source": [
    "# ABC088B - Card Game for Two\n",
    "問題文\n",
    "N\n",
    " 枚のカードがあります. \n",
    "i\n",
    " 枚目のカードには, \n",
    "a\n",
    "i\n",
    " という数が書かれています.\n",
    "Alice と Bob は, これらのカードを使ってゲームを行います. ゲームでは, Alice と Bob が交互に 1 枚ずつカードを取っていきます. Alice が先にカードを取ります.\n",
    "2 人がすべてのカードを取ったときゲームは終了し, 取ったカードの数の合計がその人の得点になります. 2 人とも自分の得点を最大化するように最適な戦略を取った時, Alice は Bob より何点多く取るか求めてください."
   ]
  },
  {
   "cell_type": "code",
   "execution_count": 56,
   "metadata": {
    "collapsed": false
   },
   "outputs": [
    {
     "name": "stdout",
     "output_type": "stream",
     "text": [
      "18\n"
     ]
    }
   ],
   "source": [
    "n=int(input())\n",
    "a_list=[int(x ) for x in input().split()]\n",
    "a_sort=sorted(a_list)[::-1]\n",
    "alice=[x for i,x in enumerate(a_sort) if i%2==0]\n",
    "bob=[x for i,x in enumerate(a_sort) if i%2!=0]\n",
    "diff=sum(alice)-sum(bob)\n",
    "print(diff)"
   ]
  },
  {
   "cell_type": "markdown",
   "metadata": {},
   "source": [
    "# ABC085B - Kagami Mochi\n",
    "問題文\n",
    "X\n",
    " 段重ねの鏡餅 \n",
    "(\n",
    "X\n",
    "≥\n",
    "1\n",
    ")\n",
    " とは、\n",
    "X\n",
    " 枚の円形の餅を縦に積み重ねたものであって、どの餅もその真下の餅より直径が小さい（一番下の餅を除く）もののことです。例えば、直径 \n",
    "10\n",
    "、\n",
    "8\n",
    "、\n",
    "6\n",
    "センチメートルの餅をこの順に下から積み重ねると \n",
    "3\n",
    " 段重ねの鏡餅になり、餅を一枚だけ置くと \n",
    "1\n",
    " 段重ねの鏡餅になります。\n",
    "\n",
    "ダックスフンドのルンルンは \n",
    "N\n",
    " 枚の円形の餅を持っていて、そのうち \n",
    "i\n",
    " 枚目の餅の直径は \n",
    "d\n",
    "i\n",
    "センチメートルです。これらの餅のうち一部または全部を使って鏡餅を作るとき、最大で何段重ねの鏡餅を作ることができるでしょうか。"
   ]
  },
  {
   "cell_type": "code",
   "execution_count": 64,
   "metadata": {
    "collapsed": false
   },
   "outputs": [
    {
     "name": "stdout",
     "output_type": "stream",
     "text": [
      "3\n",
      "15\n",
      "15\n",
      "15\n",
      "1\n"
     ]
    }
   ],
   "source": [
    "n=int(input())\n",
    "d_list=[]\n",
    "for i in range(n):\n",
    "    d_list.append(int(input()))\n",
    "print(len(set(d_list)))"
   ]
  },
  {
   "cell_type": "markdown",
   "metadata": {},
   "source": [
    "# ABC085C - Otoshidama\n",
    "日本でよく使われる紙幣は、\n",
    "10000\n",
    " 円札、\n",
    "5000\n",
    " 円札、\n",
    "1000\n",
    " 円札です。以下、「お札」とはこれらのみを指します。\n",
    "\n",
    "青橋くんが言うには、彼が祖父から受け取ったお年玉袋にはお札が \n",
    "N\n",
    " 枚入っていて、合計で \n",
    "Y\n",
    "\n",
    "円だったそうですが、嘘かもしれません。このような状況がありうるか判定し、ありうる場合はお年玉袋の中身の候補を一つ見つけてください。なお、彼の祖父は十分裕福であり、お年玉袋は十分大きかったものとします。"
   ]
  },
  {
   "cell_type": "code",
   "execution_count": 3,
   "metadata": {
    "collapsed": false
   },
   "outputs": [
    {
     "name": "stdout",
     "output_type": "stream",
     "text": [
      "2 54 944\n"
     ]
    }
   ],
   "source": [
    "N,Y=map(int,input().split())\n",
    "calc_money=lambda a,b,c:10000*a+5000*b+1000*c\n",
    "possible_x=[x for x in range(Y//10000+1) if x<=N]\n",
    "ans=\"-1 -1 -1\"\n",
    "f=False\n",
    "for x in possible_x:\n",
    "    if f:\n",
    "        break\n",
    "    money=Y-10000*x\n",
    "    possible_y=[i for i in range(money//5000+1) if x+i<=N]\n",
    "    if money>5000*possible_y[-1]+1000*(N-x-possible_y[-1]):\n",
    "        continue\n",
    "    for y in possible_y:\n",
    "        if f:\n",
    "            break\n",
    "        money=Y-10000*x-5000*y\n",
    "        z=N-x-y\n",
    "        if z<0:\n",
    "            continue\n",
    "        m=calc_money(x,y,z)\n",
    "        if m==Y:\n",
    "            ans=\"{} {} {}\".format(x,y,z)\n",
    "            f=True\n",
    "            break\n",
    "print(ans)"
   ]
  },
  {
   "cell_type": "markdown",
   "metadata": {},
   "source": [
    "# ABC049C - 白昼夢 / Daydream\n",
    "英小文字からなる文字列 \n",
    "S\n",
    " が与えられます。 \n",
    "T\n",
    "が空文字列である状態から始め、以下の操作を好きな回数繰り返すことで \n",
    "S\n",
    "=\n",
    "T\n",
    " とすることができるか判定してください。\n",
    "\n",
    "T\n",
    " の末尾に dream dreamer erase eraser のいずれかを追加する。\n"
   ]
  },
  {
   "cell_type": "code",
   "execution_count": 37,
   "metadata": {
    "collapsed": false
   },
   "outputs": [
    {
     "name": "stdout",
     "output_type": "stream",
     "text": [
      "dreamerer\n"
     ]
    }
   ],
   "source": [
    "S=input()"
   ]
  },
  {
   "cell_type": "code",
   "execution_count": 41,
   "metadata": {
    "collapsed": false
   },
   "outputs": [
    {
     "name": "stdout",
     "output_type": "stream",
     "text": [
      "NO\n"
     ]
    }
   ],
   "source": [
    "words=[\"dream\",\"dreamer\",\"erase\",\"eraser\"]\n",
    "s_list=[S]\n",
    "\n",
    "while True:\n",
    "    dic={}\n",
    "    for s in s_list:\n",
    "        dic[s]=[w for w in words if s.startswith(w)]\n",
    "    s_list=[]\n",
    "    for k in dic.keys():\n",
    "        s_list+=[k[len(x):] for x in dic[k]]\n",
    "    if \"\" in dic.keys():\n",
    "        print(\"YES\")\n",
    "        break\n",
    "    if len(dic)==0:\n",
    "        print(\"NO\")\n",
    "        break"
   ]
  },
  {
   "cell_type": "markdown",
   "metadata": {},
   "source": [
    "# ABC086C - Traveling\n",
    "シカのAtCoDeerくんは二次元平面上で旅行をしようとしています。 AtCoDeerくんの旅行プランでは、時刻 \n",
    "0\n",
    " に 点 \n",
    "(\n",
    "0\n",
    ",\n",
    "0\n",
    ")\n",
    " を出発し、 \n",
    "1\n",
    " 以上 \n",
    "N\n",
    " 以下の各 \n",
    "i\n",
    " に対し、時刻 \n",
    "t\n",
    "i\n",
    " に 点 \n",
    "(\n",
    "x\n",
    "i\n",
    ",\n",
    "y\n",
    "i\n",
    ")\n",
    " を訪れる予定です。\n",
    "\n",
    "AtCoDeerくんが時刻 \n",
    "t\n",
    " に 点 \n",
    "(\n",
    "x\n",
    ",\n",
    "y\n",
    ")\n",
    " にいる時、 時刻 \n",
    "t\n",
    "+\n",
    "1\n",
    " には 点 \n",
    "(\n",
    "x\n",
    "+\n",
    "1\n",
    ",\n",
    "y\n",
    ")\n",
    ", \n",
    "(\n",
    "x\n",
    "−\n",
    "1\n",
    ",\n",
    "y\n",
    ")\n",
    ", \n",
    "(\n",
    "x\n",
    ",\n",
    "y\n",
    "+\n",
    "1\n",
    ")\n",
    ", \n",
    "(\n",
    "x\n",
    ",\n",
    "y\n",
    "−\n",
    "1\n",
    ")\n",
    " のうちいずれかに存在することができます。 その場にとどまることは出来ないことに注意してください。 AtCoDeerくんの旅行プランが実行可能かどうか判定してください。"
   ]
  },
  {
   "cell_type": "code",
   "execution_count": 64,
   "metadata": {
    "collapsed": false
   },
   "outputs": [
    {
     "name": "stdout",
     "output_type": "stream",
     "text": [
      "2\n",
      "3 1 2\n",
      "6 1 1\n"
     ]
    }
   ],
   "source": [
    "N=int(input())\n",
    "xy_list=[]\n",
    "for i in range(N):\n",
    "    xy_list.append([int(x) for x in input().split()])"
   ]
  },
  {
   "cell_type": "code",
   "execution_count": 66,
   "metadata": {
    "collapsed": false
   },
   "outputs": [
    {
     "name": "stdout",
     "output_type": "stream",
     "text": [
      "Yes\n"
     ]
    }
   ],
   "source": [
    "pos_x,pos_y,now_t=0,0,0\n",
    "for txy in xy_list:\n",
    "    t,x,y=txy\n",
    "    dist_x=x-pos_x\n",
    "    dist_y=y-pos_y\n",
    "    if (t-now_t-dist_x-dist_y)%2==0 and (t-now_t-dist_x-dist_y)>=0:\n",
    "        pos_x=x\n",
    "        pos_y=y\n",
    "        now_t=t\n",
    "    else:\n",
    "        print(\"No\")\n",
    "        break\n",
    "else:\n",
    "    print(\"Yes\")"
   ]
  },
  {
   "cell_type": "code",
   "execution_count": null,
   "metadata": {
    "collapsed": false
   },
   "outputs": [],
   "source": []
  },
  {
   "cell_type": "code",
   "execution_count": null,
   "metadata": {
    "collapsed": true
   },
   "outputs": [],
   "source": []
  }
 ],
 "metadata": {
  "kernelspec": {
   "display_name": "Python 3",
   "language": "python",
   "name": "python3"
  }
 },
 "nbformat": 4,
 "nbformat_minor": 2
}
